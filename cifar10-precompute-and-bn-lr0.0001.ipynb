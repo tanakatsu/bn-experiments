{
 "cells": [
  {
   "cell_type": "markdown",
   "metadata": {},
   "source": [
    "# CIFAR10 (precompute conv output)\n",
    "\n",
    "https://github.com/keras-team/keras/blob/master/examples/cifar10_cnn.py"
   ]
  },
  {
   "cell_type": "code",
   "execution_count": 1,
   "metadata": {
    "scrolled": false
   },
   "outputs": [
    {
     "name": "stderr",
     "output_type": "stream",
     "text": [
      "WARNING (theano.sandbox.cuda): The cuda backend is deprecated and will be removed in the next release (v0.10).  Please switch to the gpuarray backend. You can get more information about how to switch at this URL:\n",
      " https://github.com/Theano/Theano/wiki/Converting-to-the-new-gpu-back-end%28gpuarray%29\n",
      "\n",
      "Using gpu device 0: GeForce GTX 950 (CNMeM is enabled with initial size: 90.0% of memory, cuDNN 5110)\n",
      "WARNING (theano.sandbox.cuda): The cuda backend is deprecated and will be removed in the next release (v0.10).  Please switch to the gpuarray backend. You can get more information about how to switch at this URL:\n",
      " https://github.com/Theano/Theano/wiki/Converting-to-the-new-gpu-back-end%28gpuarray%29\n",
      "\n"
     ]
    }
   ],
   "source": [
    "from theano.sandbox import cuda\n",
    "cuda.use('gpu0')"
   ]
  },
  {
   "cell_type": "code",
   "execution_count": 2,
   "metadata": {},
   "outputs": [
    {
     "name": "stderr",
     "output_type": "stream",
     "text": [
      "Using Theano backend.\n"
     ]
    }
   ],
   "source": [
    "from __future__ import print_function\n",
    "import keras\n",
    "from keras.datasets import cifar10\n",
    "from keras.preprocessing.image import ImageDataGenerator\n",
    "from keras.models import Sequential\n",
    "from keras.layers import Dense, Dropout, Activation, Flatten\n",
    "from keras.layers import Convolution2D, ZeroPadding2D, MaxPooling2D\n",
    "from keras.layers.normalization import BatchNormalization\n",
    "from keras.optimizers import RMSprop, Adam\n",
    "import bcolz"
   ]
  },
  {
   "cell_type": "code",
   "execution_count": 3,
   "metadata": {
    "collapsed": true
   },
   "outputs": [],
   "source": [
    "batch_size = 32\n",
    "num_classes = 10\n",
    "epochs = 25"
   ]
  },
  {
   "cell_type": "markdown",
   "metadata": {
    "heading_collapsed": true
   },
   "source": [
    "### The data, shuffled and split between train and test sets"
   ]
  },
  {
   "cell_type": "code",
   "execution_count": 4,
   "metadata": {
    "collapsed": true,
    "hidden": true
   },
   "outputs": [],
   "source": [
    "(x_train, y_train), (x_test, y_test) = cifar10.load_data()"
   ]
  },
  {
   "cell_type": "code",
   "execution_count": 5,
   "metadata": {
    "scrolled": true
   },
   "outputs": [
    {
     "name": "stdout",
     "output_type": "stream",
     "text": [
      "x_train shape: (50000, 3, 32, 32)\n",
      "50000 train samples\n",
      "10000 test samples\n"
     ]
    }
   ],
   "source": [
    "print('x_train shape:', x_train.shape)\n",
    "print(x_train.shape[0], 'train samples')\n",
    "print(x_test.shape[0], 'test samples')"
   ]
  },
  {
   "cell_type": "markdown",
   "metadata": {},
   "source": [
    "### Convert class vectors to binary class matrices"
   ]
  },
  {
   "cell_type": "code",
   "execution_count": 6,
   "metadata": {
    "collapsed": true
   },
   "outputs": [],
   "source": [
    "y_train = keras.utils.np_utils.to_categorical(y_train, num_classes)\n",
    "y_test = keras.utils.np_utils.to_categorical(y_test, num_classes)"
   ]
  },
  {
   "cell_type": "markdown",
   "metadata": {},
   "source": [
    "### Create model"
   ]
  },
  {
   "cell_type": "code",
   "execution_count": 7,
   "metadata": {
    "collapsed": true
   },
   "outputs": [],
   "source": [
    "model = Sequential()"
   ]
  },
  {
   "cell_type": "code",
   "execution_count": 8,
   "metadata": {
    "collapsed": true
   },
   "outputs": [],
   "source": [
    "model.add(ZeroPadding2D((1, 1), input_shape=x_train.shape[1:]))\n",
    "model.add(Convolution2D(32, 3, 3, activation='relu'))\n",
    "model.add(MaxPooling2D((2, 2), strides=(2, 2)))\n",
    "model.add(Dropout(0.25))\n",
    "model.add(ZeroPadding2D((1, 1)))\n",
    "model.add(Convolution2D(64, 3, 3, activation='relu'))\n",
    "model.add(Convolution2D(64, 3, 3, activation='relu'))\n",
    "model.add(MaxPooling2D(pool_size=(2, 2)))\n",
    "model.add(Dropout(0.25))\n",
    "model.add(Flatten())\n",
    "model.add(Dense(512, activation='relu'))\n",
    "model.add(Dropout(0.5))\n",
    "model.add(Dense(num_classes, activation='softmax'))"
   ]
  },
  {
   "cell_type": "code",
   "execution_count": 9,
   "metadata": {},
   "outputs": [
    {
     "name": "stdout",
     "output_type": "stream",
     "text": [
      "____________________________________________________________________________________________________\n",
      "Layer (type)                     Output Shape          Param #     Connected to                     \n",
      "====================================================================================================\n",
      "zeropadding2d_1 (ZeroPadding2D)  (None, 3, 34, 34)     0           zeropadding2d_input_1[0][0]      \n",
      "____________________________________________________________________________________________________\n",
      "convolution2d_1 (Convolution2D)  (None, 32, 32, 32)    896         zeropadding2d_1[0][0]            \n",
      "____________________________________________________________________________________________________\n",
      "maxpooling2d_1 (MaxPooling2D)    (None, 32, 16, 16)    0           convolution2d_1[0][0]            \n",
      "____________________________________________________________________________________________________\n",
      "dropout_1 (Dropout)              (None, 32, 16, 16)    0           maxpooling2d_1[0][0]             \n",
      "____________________________________________________________________________________________________\n",
      "zeropadding2d_2 (ZeroPadding2D)  (None, 32, 18, 18)    0           dropout_1[0][0]                  \n",
      "____________________________________________________________________________________________________\n",
      "convolution2d_2 (Convolution2D)  (None, 64, 16, 16)    18496       zeropadding2d_2[0][0]            \n",
      "____________________________________________________________________________________________________\n",
      "convolution2d_3 (Convolution2D)  (None, 64, 14, 14)    36928       convolution2d_2[0][0]            \n",
      "____________________________________________________________________________________________________\n",
      "maxpooling2d_2 (MaxPooling2D)    (None, 64, 7, 7)      0           convolution2d_3[0][0]            \n",
      "____________________________________________________________________________________________________\n",
      "dropout_2 (Dropout)              (None, 64, 7, 7)      0           maxpooling2d_2[0][0]             \n",
      "____________________________________________________________________________________________________\n",
      "flatten_1 (Flatten)              (None, 3136)          0           dropout_2[0][0]                  \n",
      "____________________________________________________________________________________________________\n",
      "dense_1 (Dense)                  (None, 512)           1606144     flatten_1[0][0]                  \n",
      "____________________________________________________________________________________________________\n",
      "dropout_3 (Dropout)              (None, 512)           0           dense_1[0][0]                    \n",
      "____________________________________________________________________________________________________\n",
      "dense_2 (Dense)                  (None, 10)            5130        dropout_3[0][0]                  \n",
      "====================================================================================================\n",
      "Total params: 1,667,594\n",
      "Trainable params: 1,667,594\n",
      "Non-trainable params: 0\n",
      "____________________________________________________________________________________________________\n"
     ]
    }
   ],
   "source": [
    "model.summary()"
   ]
  },
  {
   "cell_type": "markdown",
   "metadata": {},
   "source": [
    "### initiate RMSprop optimizer"
   ]
  },
  {
   "cell_type": "code",
   "execution_count": 10,
   "metadata": {
    "collapsed": true
   },
   "outputs": [],
   "source": [
    "opt = keras.optimizers.rmsprop(lr=0.0001, decay=1e-6)"
   ]
  },
  {
   "cell_type": "markdown",
   "metadata": {},
   "source": [
    "### Let's train the model using RMSprop"
   ]
  },
  {
   "cell_type": "code",
   "execution_count": 11,
   "metadata": {
    "collapsed": true
   },
   "outputs": [],
   "source": [
    "model.compile(loss='categorical_crossentropy', optimizer=opt, metrics=['accuracy'])"
   ]
  },
  {
   "cell_type": "code",
   "execution_count": 12,
   "metadata": {
    "collapsed": true
   },
   "outputs": [],
   "source": [
    "x_train = x_train.astype('float32')\n",
    "x_test = x_test.astype('float32')"
   ]
  },
  {
   "cell_type": "code",
   "execution_count": 13,
   "metadata": {
    "collapsed": true
   },
   "outputs": [],
   "source": [
    "x_train /= 255\n",
    "x_test /= 255"
   ]
  },
  {
   "cell_type": "code",
   "execution_count": 14,
   "metadata": {},
   "outputs": [
    {
     "name": "stdout",
     "output_type": "stream",
     "text": [
      "Train on 50000 samples, validate on 10000 samples\n",
      "Epoch 1/25\n",
      "50000/50000 [==============================] - 16s - loss: 1.8558 - acc: 0.3282 - val_loss: 1.5835 - val_acc: 0.4326\n",
      "Epoch 2/25\n",
      "50000/50000 [==============================] - 16s - loss: 1.5115 - acc: 0.4551 - val_loss: 1.3569 - val_acc: 0.5211\n",
      "Epoch 3/25\n",
      "50000/50000 [==============================] - 16s - loss: 1.3645 - acc: 0.5112 - val_loss: 1.3302 - val_acc: 0.5239\n",
      "Epoch 4/25\n",
      "50000/50000 [==============================] - 16s - loss: 1.2647 - acc: 0.5524 - val_loss: 1.1810 - val_acc: 0.5858\n",
      "Epoch 5/25\n",
      "50000/50000 [==============================] - 16s - loss: 1.1855 - acc: 0.5828 - val_loss: 1.0727 - val_acc: 0.6233\n",
      "Epoch 6/25\n",
      "50000/50000 [==============================] - 16s - loss: 1.1222 - acc: 0.6050 - val_loss: 1.0654 - val_acc: 0.6269\n",
      "Epoch 7/25\n",
      "50000/50000 [==============================] - 16s - loss: 1.0694 - acc: 0.6249 - val_loss: 0.9963 - val_acc: 0.6485\n",
      "Epoch 8/25\n",
      "50000/50000 [==============================] - 16s - loss: 1.0314 - acc: 0.6367 - val_loss: 0.9939 - val_acc: 0.6509\n",
      "Epoch 9/25\n",
      "50000/50000 [==============================] - 16s - loss: 0.9924 - acc: 0.6541 - val_loss: 1.0194 - val_acc: 0.6419\n",
      "Epoch 10/25\n",
      "50000/50000 [==============================] - 16s - loss: 0.9666 - acc: 0.6630 - val_loss: 0.9065 - val_acc: 0.6840\n",
      "Epoch 11/25\n",
      "50000/50000 [==============================] - 16s - loss: 0.9418 - acc: 0.6708 - val_loss: 0.8979 - val_acc: 0.6912\n",
      "Epoch 12/25\n",
      "50000/50000 [==============================] - 16s - loss: 0.9209 - acc: 0.6804 - val_loss: 0.8926 - val_acc: 0.6878\n",
      "Epoch 13/25\n",
      "50000/50000 [==============================] - 16s - loss: 0.9019 - acc: 0.6875 - val_loss: 0.8592 - val_acc: 0.6995\n",
      "Epoch 14/25\n",
      "50000/50000 [==============================] - 16s - loss: 0.8773 - acc: 0.6968 - val_loss: 0.8717 - val_acc: 0.6929\n",
      "Epoch 15/25\n",
      "50000/50000 [==============================] - 16s - loss: 0.8658 - acc: 0.7012 - val_loss: 0.8517 - val_acc: 0.7075\n",
      "Epoch 16/25\n",
      "50000/50000 [==============================] - 16s - loss: 0.8508 - acc: 0.7072 - val_loss: 0.8563 - val_acc: 0.7070\n",
      "Epoch 17/25\n",
      "50000/50000 [==============================] - 16s - loss: 0.8415 - acc: 0.7064 - val_loss: 0.8091 - val_acc: 0.7234\n",
      "Epoch 18/25\n",
      "50000/50000 [==============================] - 16s - loss: 0.8286 - acc: 0.7152 - val_loss: 0.8008 - val_acc: 0.7240\n",
      "Epoch 19/25\n",
      "50000/50000 [==============================] - 16s - loss: 0.8214 - acc: 0.7181 - val_loss: 0.8276 - val_acc: 0.7133\n",
      "Epoch 20/25\n",
      "50000/50000 [==============================] - 16s - loss: 0.8144 - acc: 0.7211 - val_loss: 0.8002 - val_acc: 0.7295\n",
      "Epoch 21/25\n",
      "50000/50000 [==============================] - 16s - loss: 0.8040 - acc: 0.7236 - val_loss: 0.8045 - val_acc: 0.7237\n",
      "Epoch 22/25\n",
      "50000/50000 [==============================] - 16s - loss: 0.8027 - acc: 0.7248 - val_loss: 0.8172 - val_acc: 0.7270\n",
      "Epoch 23/25\n",
      "50000/50000 [==============================] - 16s - loss: 0.7981 - acc: 0.7279 - val_loss: 0.8178 - val_acc: 0.7190\n",
      "Epoch 24/25\n",
      "50000/50000 [==============================] - 16s - loss: 0.7880 - acc: 0.7298 - val_loss: 0.8269 - val_acc: 0.7259\n",
      "Epoch 25/25\n",
      "50000/50000 [==============================] - 16s - loss: 0.7887 - acc: 0.7298 - val_loss: 0.7714 - val_acc: 0.7385\n"
     ]
    },
    {
     "data": {
      "text/plain": [
       "<keras.callbacks.History at 0x7f534aad4350>"
      ]
     },
     "execution_count": 14,
     "metadata": {},
     "output_type": "execute_result"
    }
   ],
   "source": [
    "model.fit(x_train, y_train, batch_size=batch_size, nb_epoch=epochs, validation_data=(x_test, y_test), shuffle=True)"
   ]
  },
  {
   "cell_type": "code",
   "execution_count": 15,
   "metadata": {
    "collapsed": true
   },
   "outputs": [],
   "source": [
    "model.save_weights('results/cifar10.h5')"
   ]
  },
  {
   "cell_type": "code",
   "execution_count": 14,
   "metadata": {
    "collapsed": true
   },
   "outputs": [],
   "source": [
    "model.load_weights('results/cifar10.h5')"
   ]
  },
  {
   "cell_type": "markdown",
   "metadata": {},
   "source": [
    "### Precompute convolution output"
   ]
  },
  {
   "cell_type": "code",
   "execution_count": 16,
   "metadata": {
    "collapsed": true
   },
   "outputs": [],
   "source": [
    "layer_type = Convolution2D\n",
    "layers = model.layers\n",
    "layer_idx = [index for index,layer in enumerate(layers) if type(layer) is layer_type][-1]"
   ]
  },
  {
   "cell_type": "code",
   "execution_count": 17,
   "metadata": {
    "collapsed": true
   },
   "outputs": [],
   "source": [
    "conv_layers = layers[:layer_idx+1]\n",
    "fc_layers = layers[layer_idx+1:]"
   ]
  },
  {
   "cell_type": "code",
   "execution_count": 18,
   "metadata": {
    "collapsed": true
   },
   "outputs": [],
   "source": [
    "conv_model = Sequential(conv_layers)"
   ]
  },
  {
   "cell_type": "code",
   "execution_count": 19,
   "metadata": {
    "scrolled": true
   },
   "outputs": [
    {
     "name": "stdout",
     "output_type": "stream",
     "text": [
      "____________________________________________________________________________________________________\n",
      "Layer (type)                     Output Shape          Param #     Connected to                     \n",
      "====================================================================================================\n",
      "zeropadding2d_1 (ZeroPadding2D)  (None, 3, 34, 34)     0           zeropadding2d_input_1[0][0]      \n",
      "____________________________________________________________________________________________________\n",
      "convolution2d_1 (Convolution2D)  (None, 32, 32, 32)    896         zeropadding2d_1[0][0]            \n",
      "                                                                   zeropadding2d_1[0][0]            \n",
      "____________________________________________________________________________________________________\n",
      "maxpooling2d_1 (MaxPooling2D)    (None, 32, 16, 16)    0           convolution2d_1[0][0]            \n",
      "                                                                   convolution2d_1[1][0]            \n",
      "____________________________________________________________________________________________________\n",
      "dropout_1 (Dropout)              (None, 32, 16, 16)    0           maxpooling2d_1[0][0]             \n",
      "                                                                   maxpooling2d_1[1][0]             \n",
      "____________________________________________________________________________________________________\n",
      "zeropadding2d_2 (ZeroPadding2D)  (None, 32, 18, 18)    0           dropout_1[0][0]                  \n",
      "                                                                   dropout_1[1][0]                  \n",
      "____________________________________________________________________________________________________\n",
      "convolution2d_2 (Convolution2D)  (None, 64, 16, 16)    18496       zeropadding2d_2[0][0]            \n",
      "                                                                   zeropadding2d_2[1][0]            \n",
      "____________________________________________________________________________________________________\n",
      "convolution2d_3 (Convolution2D)  (None, 64, 14, 14)    36928       convolution2d_2[0][0]            \n",
      "                                                                   convolution2d_2[1][0]            \n",
      "====================================================================================================\n",
      "Total params: 56,320\n",
      "Trainable params: 56,320\n",
      "Non-trainable params: 0\n",
      "____________________________________________________________________________________________________\n"
     ]
    }
   ],
   "source": [
    "conv_model.summary()"
   ]
  },
  {
   "cell_type": "code",
   "execution_count": 20,
   "metadata": {
    "collapsed": true
   },
   "outputs": [],
   "source": [
    "def save_array(fname, arr):\n",
    "    c=bcolz.carray(arr, rootdir=fname, mode='w')\n",
    "    c.flush()\n",
    "    \n",
    "def load_array(fname):\n",
    "    return bcolz.open(fname)[:]    "
   ]
  },
  {
   "cell_type": "code",
   "execution_count": 21,
   "metadata": {
    "collapsed": true
   },
   "outputs": [],
   "source": [
    "conv_feat = conv_model.predict(x_train)"
   ]
  },
  {
   "cell_type": "code",
   "execution_count": 22,
   "metadata": {
    "collapsed": true
   },
   "outputs": [],
   "source": [
    "save_array('results/cifar10_conv_feat.dat', conv_feat)"
   ]
  },
  {
   "cell_type": "code",
   "execution_count": 23,
   "metadata": {
    "collapsed": true
   },
   "outputs": [],
   "source": [
    "conv_val_feat = conv_model.predict(x_test)"
   ]
  },
  {
   "cell_type": "code",
   "execution_count": 24,
   "metadata": {
    "collapsed": true
   },
   "outputs": [],
   "source": [
    "save_array('results/cifar10_conv_val_feat.dat', conv_val_feat)"
   ]
  },
  {
   "cell_type": "code",
   "execution_count": 20,
   "metadata": {
    "collapsed": true
   },
   "outputs": [],
   "source": [
    "conv_feat = load_array('results/cifar10_conv_feat.dat')\n",
    "conv_val_feat = load_array('results/cifar10_conv_val_feat.dat')"
   ]
  },
  {
   "cell_type": "code",
   "execution_count": 25,
   "metadata": {},
   "outputs": [
    {
     "data": {
      "text/plain": [
       "(None, 64, 14, 14)"
      ]
     },
     "execution_count": 25,
     "metadata": {},
     "output_type": "execute_result"
    }
   ],
   "source": [
    "conv_layers[-1].output_shape"
   ]
  },
  {
   "cell_type": "markdown",
   "metadata": {},
   "source": [
    "### FC only"
   ]
  },
  {
   "cell_type": "code",
   "execution_count": 26,
   "metadata": {
    "collapsed": true
   },
   "outputs": [],
   "source": [
    "def get_fc_model(p):\n",
    "    return [\n",
    "        MaxPooling2D(input_shape=conv_layers[-1].output_shape[1:]), # first layer must have input_shape\n",
    "        Dropout(p / 2),\n",
    "        Flatten(),\n",
    "        Dense(512, activation='relu'),\n",
    "        Dropout(p),\n",
    "        Dense(10, activation='softmax')        \n",
    "    ]"
   ]
  },
  {
   "cell_type": "markdown",
   "metadata": {},
   "source": [
    "#### Learning rate = 0.0001, Dropout = 0.5"
   ]
  },
  {
   "cell_type": "code",
   "execution_count": 27,
   "metadata": {
    "collapsed": true
   },
   "outputs": [],
   "source": [
    "fc_model = Sequential(get_fc_model(0.5))\n",
    "fc_model.compile(optimizer=opt, loss='categorical_crossentropy', metrics=['accuracy'])"
   ]
  },
  {
   "cell_type": "code",
   "execution_count": 28,
   "metadata": {},
   "outputs": [
    {
     "name": "stdout",
     "output_type": "stream",
     "text": [
      "Train on 50000 samples, validate on 10000 samples\n",
      "Epoch 1/25\n",
      "50000/50000 [==============================] - 4s - loss: 1.4560 - acc: 0.5140 - val_loss: 1.0381 - val_acc: 0.6582\n",
      "Epoch 2/25\n",
      "50000/50000 [==============================] - 4s - loss: 1.0207 - acc: 0.6478 - val_loss: 0.9104 - val_acc: 0.6851\n",
      "Epoch 3/25\n",
      "50000/50000 [==============================] - 4s - loss: 0.9220 - acc: 0.6795 - val_loss: 0.8562 - val_acc: 0.7051\n",
      "Epoch 4/25\n",
      "50000/50000 [==============================] - 4s - loss: 0.8654 - acc: 0.6985 - val_loss: 0.8289 - val_acc: 0.7137\n",
      "Epoch 5/25\n",
      "50000/50000 [==============================] - 4s - loss: 0.8308 - acc: 0.7138 - val_loss: 0.8117 - val_acc: 0.7191\n",
      "Epoch 6/25\n",
      "50000/50000 [==============================] - 4s - loss: 0.8082 - acc: 0.7203 - val_loss: 0.7974 - val_acc: 0.7239\n",
      "Epoch 7/25\n",
      "50000/50000 [==============================] - 4s - loss: 0.7837 - acc: 0.7286 - val_loss: 0.7844 - val_acc: 0.7258\n",
      "Epoch 8/25\n",
      "50000/50000 [==============================] - 4s - loss: 0.7692 - acc: 0.7328 - val_loss: 0.7775 - val_acc: 0.7321\n",
      "Epoch 9/25\n",
      "50000/50000 [==============================] - 4s - loss: 0.7550 - acc: 0.7399 - val_loss: 0.7768 - val_acc: 0.7307\n",
      "Epoch 10/25\n",
      "50000/50000 [==============================] - 4s - loss: 0.7431 - acc: 0.7431 - val_loss: 0.7667 - val_acc: 0.7359\n",
      "Epoch 11/25\n",
      "50000/50000 [==============================] - 4s - loss: 0.7339 - acc: 0.7445 - val_loss: 0.7687 - val_acc: 0.7365\n",
      "Epoch 12/25\n",
      "50000/50000 [==============================] - 4s - loss: 0.7235 - acc: 0.7509 - val_loss: 0.7638 - val_acc: 0.7390\n",
      "Epoch 13/25\n",
      "50000/50000 [==============================] - 4s - loss: 0.7218 - acc: 0.7536 - val_loss: 0.7626 - val_acc: 0.7390\n",
      "Epoch 14/25\n",
      "50000/50000 [==============================] - 4s - loss: 0.7125 - acc: 0.7554 - val_loss: 0.7637 - val_acc: 0.7395\n",
      "Epoch 15/25\n",
      "50000/50000 [==============================] - 4s - loss: 0.7056 - acc: 0.7602 - val_loss: 0.7632 - val_acc: 0.7408\n",
      "Epoch 16/25\n",
      "50000/50000 [==============================] - 4s - loss: 0.7043 - acc: 0.7601 - val_loss: 0.7618 - val_acc: 0.7432\n",
      "Epoch 17/25\n",
      "50000/50000 [==============================] - 4s - loss: 0.6934 - acc: 0.7660 - val_loss: 0.7626 - val_acc: 0.7425\n",
      "Epoch 18/25\n",
      "50000/50000 [==============================] - 4s - loss: 0.6955 - acc: 0.7640 - val_loss: 0.7591 - val_acc: 0.7464\n",
      "Epoch 19/25\n",
      "50000/50000 [==============================] - 4s - loss: 0.6934 - acc: 0.7657 - val_loss: 0.7632 - val_acc: 0.7424\n",
      "Epoch 20/25\n",
      "50000/50000 [==============================] - 4s - loss: 0.6850 - acc: 0.7682 - val_loss: 0.7636 - val_acc: 0.7465\n",
      "Epoch 21/25\n",
      "50000/50000 [==============================] - 4s - loss: 0.6840 - acc: 0.7702 - val_loss: 0.7740 - val_acc: 0.7465\n",
      "Epoch 22/25\n",
      "50000/50000 [==============================] - 4s - loss: 0.6784 - acc: 0.7733 - val_loss: 0.7700 - val_acc: 0.7465\n",
      "Epoch 23/25\n",
      "50000/50000 [==============================] - 4s - loss: 0.6817 - acc: 0.7716 - val_loss: 0.7684 - val_acc: 0.7475\n",
      "Epoch 24/25\n",
      "50000/50000 [==============================] - 4s - loss: 0.6799 - acc: 0.7730 - val_loss: 0.7632 - val_acc: 0.7481\n",
      "Epoch 25/25\n",
      "50000/50000 [==============================] - 4s - loss: 0.6768 - acc: 0.7764 - val_loss: 0.7716 - val_acc: 0.7444\n"
     ]
    },
    {
     "data": {
      "text/plain": [
       "<keras.callbacks.History at 0x7f527e8f2a10>"
      ]
     },
     "execution_count": 28,
     "metadata": {},
     "output_type": "execute_result"
    }
   ],
   "source": [
    "fc_model.fit(conv_feat, y_train, batch_size=batch_size, nb_epoch=epochs, validation_data=(conv_val_feat, y_test))"
   ]
  },
  {
   "cell_type": "markdown",
   "metadata": {},
   "source": [
    "## Add Batch normalization"
   ]
  },
  {
   "cell_type": "code",
   "execution_count": 29,
   "metadata": {
    "collapsed": true
   },
   "outputs": [],
   "source": [
    "def get_bn_layers(p):\n",
    "    return [\n",
    "        MaxPooling2D(input_shape=conv_layers[-1].output_shape[1:]),\n",
    "        BatchNormalization(axis=1), \n",
    "        Dropout(p / 2),\n",
    "        Flatten(),\n",
    "        Dense(512, activation='relu'),\n",
    "        BatchNormalization(),\n",
    "        Dropout(p),\n",
    "        Dense(10, activation='softmax')        \n",
    "    ]"
   ]
  },
  {
   "cell_type": "markdown",
   "metadata": {},
   "source": [
    "#### Learning rate = 0.0001, Dropout = 0.5"
   ]
  },
  {
   "cell_type": "code",
   "execution_count": 30,
   "metadata": {
    "collapsed": true
   },
   "outputs": [],
   "source": [
    "bn_model = Sequential(get_bn_layers(0.5))\n",
    "bn_model.compile(optimizer=opt, loss='categorical_crossentropy', metrics=['accuracy'])"
   ]
  },
  {
   "cell_type": "code",
   "execution_count": 31,
   "metadata": {},
   "outputs": [
    {
     "name": "stdout",
     "output_type": "stream",
     "text": [
      "Train on 50000 samples, validate on 10000 samples\n",
      "Epoch 1/25\n",
      "50000/50000 [==============================] - 5s - loss: 1.4448 - acc: 0.5632 - val_loss: 0.8621 - val_acc: 0.7078\n",
      "Epoch 2/25\n",
      "50000/50000 [==============================] - 5s - loss: 1.0130 - acc: 0.6737 - val_loss: 0.7924 - val_acc: 0.7321\n",
      "Epoch 3/25\n",
      "50000/50000 [==============================] - 5s - loss: 0.8821 - acc: 0.7068 - val_loss: 0.7716 - val_acc: 0.7371\n",
      "Epoch 4/25\n",
      "50000/50000 [==============================] - 5s - loss: 0.8115 - acc: 0.7264 - val_loss: 0.7568 - val_acc: 0.7424\n",
      "Epoch 5/25\n",
      "50000/50000 [==============================] - 5s - loss: 0.7527 - acc: 0.7437 - val_loss: 0.7484 - val_acc: 0.7473\n",
      "Epoch 6/25\n",
      "50000/50000 [==============================] - 5s - loss: 0.7138 - acc: 0.7554 - val_loss: 0.7455 - val_acc: 0.7488\n",
      "Epoch 7/25\n",
      "50000/50000 [==============================] - 5s - loss: 0.6885 - acc: 0.7663 - val_loss: 0.7411 - val_acc: 0.7495\n",
      "Epoch 8/25\n",
      "50000/50000 [==============================] - 5s - loss: 0.6623 - acc: 0.7728 - val_loss: 0.7356 - val_acc: 0.7520\n",
      "Epoch 9/25\n",
      "50000/50000 [==============================] - 5s - loss: 0.6400 - acc: 0.7802 - val_loss: 0.7288 - val_acc: 0.7550\n",
      "Epoch 10/25\n",
      "50000/50000 [==============================] - 5s - loss: 0.6253 - acc: 0.7877 - val_loss: 0.7310 - val_acc: 0.7554\n",
      "Epoch 11/25\n",
      "50000/50000 [==============================] - 5s - loss: 0.6089 - acc: 0.7927 - val_loss: 0.7268 - val_acc: 0.7545\n",
      "Epoch 12/25\n",
      "50000/50000 [==============================] - 5s - loss: 0.5951 - acc: 0.7982 - val_loss: 0.7283 - val_acc: 0.7576\n",
      "Epoch 13/25\n",
      "50000/50000 [==============================] - 5s - loss: 0.5794 - acc: 0.8043 - val_loss: 0.7225 - val_acc: 0.7571\n",
      "Epoch 14/25\n",
      "50000/50000 [==============================] - 5s - loss: 0.5677 - acc: 0.8099 - val_loss: 0.7249 - val_acc: 0.7619\n",
      "Epoch 15/25\n",
      "50000/50000 [==============================] - 5s - loss: 0.5539 - acc: 0.8135 - val_loss: 0.7235 - val_acc: 0.7588\n",
      "Epoch 16/25\n",
      "50000/50000 [==============================] - 5s - loss: 0.5470 - acc: 0.8169 - val_loss: 0.7246 - val_acc: 0.7591\n",
      "Epoch 17/25\n",
      "50000/50000 [==============================] - 5s - loss: 0.5380 - acc: 0.8197 - val_loss: 0.7200 - val_acc: 0.7593\n",
      "Epoch 18/25\n",
      "50000/50000 [==============================] - 5s - loss: 0.5238 - acc: 0.8226 - val_loss: 0.7234 - val_acc: 0.7601\n",
      "Epoch 19/25\n",
      "50000/50000 [==============================] - 5s - loss: 0.5202 - acc: 0.8252 - val_loss: 0.7265 - val_acc: 0.7607\n",
      "Epoch 20/25\n",
      "50000/50000 [==============================] - 5s - loss: 0.5143 - acc: 0.8274 - val_loss: 0.7236 - val_acc: 0.7598\n",
      "Epoch 21/25\n",
      "50000/50000 [==============================] - 5s - loss: 0.5054 - acc: 0.8300 - val_loss: 0.7204 - val_acc: 0.7612\n",
      "Epoch 22/25\n",
      "50000/50000 [==============================] - 5s - loss: 0.4879 - acc: 0.8382 - val_loss: 0.7194 - val_acc: 0.7628\n",
      "Epoch 23/25\n",
      "50000/50000 [==============================] - 5s - loss: 0.4855 - acc: 0.8372 - val_loss: 0.7227 - val_acc: 0.7605\n",
      "Epoch 24/25\n",
      "50000/50000 [==============================] - 5s - loss: 0.4797 - acc: 0.8421 - val_loss: 0.7149 - val_acc: 0.7624\n",
      "Epoch 25/25\n",
      "50000/50000 [==============================] - 5s - loss: 0.4751 - acc: 0.8418 - val_loss: 0.7227 - val_acc: 0.7636\n"
     ]
    },
    {
     "data": {
      "text/plain": [
       "<keras.callbacks.History at 0x7f527d4562d0>"
      ]
     },
     "execution_count": 31,
     "metadata": {},
     "output_type": "execute_result"
    }
   ],
   "source": [
    "bn_model.fit(conv_feat, y_train, batch_size=batch_size, nb_epoch=epochs, validation_data=(conv_val_feat, y_test))"
   ]
  },
  {
   "cell_type": "markdown",
   "metadata": {},
   "source": [
    "| | loss | acc | val_loss | val_acc |\n",
    "|---|---|---|---|---|\n",
    "| lr=0.0001, dropout=0.5 | 0.6768 | 0.7764 | 0.7716 | 0.7444 |\n",
    "| BN, lr=0.0001, dropout=0.5 | 0.4751 | 0.8418 | 0.7227 | 0.7636 |"
   ]
  }
 ],
 "metadata": {
  "kernelspec": {
   "display_name": "Python 2",
   "language": "python",
   "name": "python2"
  },
  "language_info": {
   "codemirror_mode": {
    "name": "ipython",
    "version": 2
   },
   "file_extension": ".py",
   "mimetype": "text/x-python",
   "name": "python",
   "nbconvert_exporter": "python",
   "pygments_lexer": "ipython2",
   "version": "2.7.13"
  },
  "nav_menu": {},
  "toc": {
   "navigate_menu": true,
   "number_sections": true,
   "sideBar": true,
   "threshold": 6,
   "toc_cell": false,
   "toc_section_display": "block",
   "toc_window_display": false
  },
  "widgets": {
   "state": {},
   "version": "1.1.2"
  }
 },
 "nbformat": 4,
 "nbformat_minor": 1
}
