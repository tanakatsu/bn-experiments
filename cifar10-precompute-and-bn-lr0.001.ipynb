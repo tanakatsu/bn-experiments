{
 "cells": [
  {
   "cell_type": "markdown",
   "metadata": {},
   "source": [
    "# CIFAR10 (precompute conv output)\n",
    "\n",
    "https://github.com/keras-team/keras/blob/master/examples/cifar10_cnn.py"
   ]
  },
  {
   "cell_type": "code",
   "execution_count": 1,
   "metadata": {
    "scrolled": false
   },
   "outputs": [
    {
     "name": "stderr",
     "output_type": "stream",
     "text": [
      "WARNING (theano.sandbox.cuda): The cuda backend is deprecated and will be removed in the next release (v0.10).  Please switch to the gpuarray backend. You can get more information about how to switch at this URL:\n",
      " https://github.com/Theano/Theano/wiki/Converting-to-the-new-gpu-back-end%28gpuarray%29\n",
      "\n",
      "Using gpu device 0: GeForce GTX 950 (CNMeM is enabled with initial size: 90.0% of memory, cuDNN 5110)\n",
      "WARNING (theano.sandbox.cuda): The cuda backend is deprecated and will be removed in the next release (v0.10).  Please switch to the gpuarray backend. You can get more information about how to switch at this URL:\n",
      " https://github.com/Theano/Theano/wiki/Converting-to-the-new-gpu-back-end%28gpuarray%29\n",
      "\n"
     ]
    }
   ],
   "source": [
    "from theano.sandbox import cuda\n",
    "cuda.use('gpu0')"
   ]
  },
  {
   "cell_type": "code",
   "execution_count": 2,
   "metadata": {},
   "outputs": [
    {
     "name": "stderr",
     "output_type": "stream",
     "text": [
      "Using Theano backend.\n"
     ]
    }
   ],
   "source": [
    "from __future__ import print_function\n",
    "import keras\n",
    "from keras.datasets import cifar10\n",
    "from keras.preprocessing.image import ImageDataGenerator\n",
    "from keras.models import Sequential\n",
    "from keras.layers import Dense, Dropout, Activation, Flatten\n",
    "from keras.layers import Convolution2D, ZeroPadding2D, MaxPooling2D\n",
    "from keras.layers.normalization import BatchNormalization\n",
    "from keras.optimizers import RMSprop, Adam\n",
    "import bcolz"
   ]
  },
  {
   "cell_type": "code",
   "execution_count": 3,
   "metadata": {
    "collapsed": true
   },
   "outputs": [],
   "source": [
    "batch_size = 32\n",
    "num_classes = 10\n",
    "epochs = 25"
   ]
  },
  {
   "cell_type": "markdown",
   "metadata": {
    "heading_collapsed": true
   },
   "source": [
    "### The data, shuffled and split between train and test sets"
   ]
  },
  {
   "cell_type": "code",
   "execution_count": 4,
   "metadata": {
    "collapsed": true,
    "hidden": true
   },
   "outputs": [],
   "source": [
    "(x_train, y_train), (x_test, y_test) = cifar10.load_data()"
   ]
  },
  {
   "cell_type": "code",
   "execution_count": 5,
   "metadata": {
    "scrolled": true
   },
   "outputs": [
    {
     "name": "stdout",
     "output_type": "stream",
     "text": [
      "x_train shape: (50000, 3, 32, 32)\n",
      "50000 train samples\n",
      "10000 test samples\n"
     ]
    }
   ],
   "source": [
    "print('x_train shape:', x_train.shape)\n",
    "print(x_train.shape[0], 'train samples')\n",
    "print(x_test.shape[0], 'test samples')"
   ]
  },
  {
   "cell_type": "markdown",
   "metadata": {},
   "source": [
    "### Convert class vectors to binary class matrices"
   ]
  },
  {
   "cell_type": "code",
   "execution_count": 6,
   "metadata": {
    "collapsed": true
   },
   "outputs": [],
   "source": [
    "y_train = keras.utils.np_utils.to_categorical(y_train, num_classes)\n",
    "y_test = keras.utils.np_utils.to_categorical(y_test, num_classes)"
   ]
  },
  {
   "cell_type": "markdown",
   "metadata": {},
   "source": [
    "### Create model"
   ]
  },
  {
   "cell_type": "code",
   "execution_count": 7,
   "metadata": {
    "collapsed": true
   },
   "outputs": [],
   "source": [
    "model = Sequential()"
   ]
  },
  {
   "cell_type": "code",
   "execution_count": 8,
   "metadata": {
    "collapsed": true
   },
   "outputs": [],
   "source": [
    "model.add(ZeroPadding2D((1, 1), input_shape=x_train.shape[1:]))\n",
    "model.add(Convolution2D(32, 3, 3, activation='relu'))\n",
    "model.add(MaxPooling2D((2, 2), strides=(2, 2)))\n",
    "model.add(Dropout(0.25))\n",
    "model.add(ZeroPadding2D((1, 1)))\n",
    "model.add(Convolution2D(64, 3, 3, activation='relu'))\n",
    "model.add(Convolution2D(64, 3, 3, activation='relu'))\n",
    "model.add(MaxPooling2D(pool_size=(2, 2)))\n",
    "model.add(Dropout(0.25))\n",
    "model.add(Flatten())\n",
    "model.add(Dense(512, activation='relu'))\n",
    "model.add(Dropout(0.5))\n",
    "model.add(Dense(num_classes, activation='softmax'))"
   ]
  },
  {
   "cell_type": "code",
   "execution_count": 9,
   "metadata": {},
   "outputs": [
    {
     "name": "stdout",
     "output_type": "stream",
     "text": [
      "____________________________________________________________________________________________________\n",
      "Layer (type)                     Output Shape          Param #     Connected to                     \n",
      "====================================================================================================\n",
      "zeropadding2d_1 (ZeroPadding2D)  (None, 3, 34, 34)     0           zeropadding2d_input_1[0][0]      \n",
      "____________________________________________________________________________________________________\n",
      "convolution2d_1 (Convolution2D)  (None, 32, 32, 32)    896         zeropadding2d_1[0][0]            \n",
      "____________________________________________________________________________________________________\n",
      "maxpooling2d_1 (MaxPooling2D)    (None, 32, 16, 16)    0           convolution2d_1[0][0]            \n",
      "____________________________________________________________________________________________________\n",
      "dropout_1 (Dropout)              (None, 32, 16, 16)    0           maxpooling2d_1[0][0]             \n",
      "____________________________________________________________________________________________________\n",
      "zeropadding2d_2 (ZeroPadding2D)  (None, 32, 18, 18)    0           dropout_1[0][0]                  \n",
      "____________________________________________________________________________________________________\n",
      "convolution2d_2 (Convolution2D)  (None, 64, 16, 16)    18496       zeropadding2d_2[0][0]            \n",
      "____________________________________________________________________________________________________\n",
      "convolution2d_3 (Convolution2D)  (None, 64, 14, 14)    36928       convolution2d_2[0][0]            \n",
      "____________________________________________________________________________________________________\n",
      "maxpooling2d_2 (MaxPooling2D)    (None, 64, 7, 7)      0           convolution2d_3[0][0]            \n",
      "____________________________________________________________________________________________________\n",
      "dropout_2 (Dropout)              (None, 64, 7, 7)      0           maxpooling2d_2[0][0]             \n",
      "____________________________________________________________________________________________________\n",
      "flatten_1 (Flatten)              (None, 3136)          0           dropout_2[0][0]                  \n",
      "____________________________________________________________________________________________________\n",
      "dense_1 (Dense)                  (None, 512)           1606144     flatten_1[0][0]                  \n",
      "____________________________________________________________________________________________________\n",
      "dropout_3 (Dropout)              (None, 512)           0           dense_1[0][0]                    \n",
      "____________________________________________________________________________________________________\n",
      "dense_2 (Dense)                  (None, 10)            5130        dropout_3[0][0]                  \n",
      "====================================================================================================\n",
      "Total params: 1,667,594\n",
      "Trainable params: 1,667,594\n",
      "Non-trainable params: 0\n",
      "____________________________________________________________________________________________________\n"
     ]
    }
   ],
   "source": [
    "model.summary()"
   ]
  },
  {
   "cell_type": "markdown",
   "metadata": {},
   "source": [
    "### initiate RMSprop optimizer"
   ]
  },
  {
   "cell_type": "code",
   "execution_count": 10,
   "metadata": {
    "collapsed": true
   },
   "outputs": [],
   "source": [
    "opt = keras.optimizers.rmsprop(lr=0.0001, decay=1e-6)"
   ]
  },
  {
   "cell_type": "markdown",
   "metadata": {},
   "source": [
    "### Let's train the model using RMSprop"
   ]
  },
  {
   "cell_type": "code",
   "execution_count": 11,
   "metadata": {
    "collapsed": true
   },
   "outputs": [],
   "source": [
    "model.compile(loss='categorical_crossentropy', optimizer=opt, metrics=['accuracy'])"
   ]
  },
  {
   "cell_type": "code",
   "execution_count": 12,
   "metadata": {
    "collapsed": true
   },
   "outputs": [],
   "source": [
    "x_train = x_train.astype('float32')\n",
    "x_test = x_test.astype('float32')"
   ]
  },
  {
   "cell_type": "code",
   "execution_count": 13,
   "metadata": {
    "collapsed": true
   },
   "outputs": [],
   "source": [
    "x_train /= 255\n",
    "x_test /= 255"
   ]
  },
  {
   "cell_type": "code",
   "execution_count": 14,
   "metadata": {},
   "outputs": [
    {
     "name": "stdout",
     "output_type": "stream",
     "text": [
      "Train on 50000 samples, validate on 10000 samples\n",
      "Epoch 1/25\n",
      "50000/50000 [==============================] - 16s - loss: 1.8270 - acc: 0.3341 - val_loss: 1.5387 - val_acc: 0.4491\n",
      "Epoch 2/25\n",
      "50000/50000 [==============================] - 16s - loss: 1.4813 - acc: 0.4660 - val_loss: 1.3402 - val_acc: 0.5224\n",
      "Epoch 3/25\n",
      "50000/50000 [==============================] - 16s - loss: 1.3419 - acc: 0.5211 - val_loss: 1.2166 - val_acc: 0.5712\n",
      "Epoch 4/25\n",
      "50000/50000 [==============================] - 16s - loss: 1.2486 - acc: 0.5575 - val_loss: 1.1928 - val_acc: 0.5774\n",
      "Epoch 5/25\n",
      "50000/50000 [==============================] - 16s - loss: 1.1781 - acc: 0.5848 - val_loss: 1.1159 - val_acc: 0.6065\n",
      "Epoch 6/25\n",
      "50000/50000 [==============================] - 16s - loss: 1.1195 - acc: 0.6047 - val_loss: 1.0259 - val_acc: 0.6390\n",
      "Epoch 7/25\n",
      "50000/50000 [==============================] - 16s - loss: 1.0728 - acc: 0.6238 - val_loss: 0.9927 - val_acc: 0.6504\n",
      "Epoch 8/25\n",
      "50000/50000 [==============================] - 16s - loss: 1.0314 - acc: 0.6372 - val_loss: 0.9833 - val_acc: 0.6542\n",
      "Epoch 9/25\n",
      "50000/50000 [==============================] - 16s - loss: 0.9956 - acc: 0.6519 - val_loss: 0.9420 - val_acc: 0.6670\n",
      "Epoch 10/25\n",
      "50000/50000 [==============================] - 16s - loss: 0.9642 - acc: 0.6669 - val_loss: 0.9575 - val_acc: 0.6649\n",
      "Epoch 11/25\n",
      "50000/50000 [==============================] - 16s - loss: 0.9416 - acc: 0.6712 - val_loss: 0.8816 - val_acc: 0.6927\n",
      "Epoch 12/25\n",
      "50000/50000 [==============================] - 16s - loss: 0.9184 - acc: 0.6790 - val_loss: 0.9070 - val_acc: 0.6838\n",
      "Epoch 13/25\n",
      "50000/50000 [==============================] - 16s - loss: 0.8974 - acc: 0.6872 - val_loss: 0.8494 - val_acc: 0.7024\n",
      "Epoch 14/25\n",
      "50000/50000 [==============================] - 16s - loss: 0.8820 - acc: 0.6931 - val_loss: 0.8444 - val_acc: 0.7031\n",
      "Epoch 15/25\n",
      "50000/50000 [==============================] - 16s - loss: 0.8678 - acc: 0.6997 - val_loss: 0.8391 - val_acc: 0.7080\n",
      "Epoch 16/25\n",
      "50000/50000 [==============================] - 16s - loss: 0.8536 - acc: 0.7047 - val_loss: 0.8324 - val_acc: 0.7100\n",
      "Epoch 17/25\n",
      "50000/50000 [==============================] - 16s - loss: 0.8451 - acc: 0.7088 - val_loss: 0.8076 - val_acc: 0.7219\n",
      "Epoch 18/25\n",
      "50000/50000 [==============================] - 16s - loss: 0.8328 - acc: 0.7120 - val_loss: 0.8316 - val_acc: 0.7156\n",
      "Epoch 19/25\n",
      "50000/50000 [==============================] - 16s - loss: 0.8219 - acc: 0.7173 - val_loss: 0.7948 - val_acc: 0.7247\n",
      "Epoch 20/25\n",
      "50000/50000 [==============================] - 16s - loss: 0.8172 - acc: 0.7191 - val_loss: 0.8506 - val_acc: 0.7122\n",
      "Epoch 21/25\n",
      "50000/50000 [==============================] - 16s - loss: 0.8164 - acc: 0.7215 - val_loss: 0.8015 - val_acc: 0.7274\n",
      "Epoch 22/25\n",
      "50000/50000 [==============================] - 16s - loss: 0.8066 - acc: 0.7244 - val_loss: 0.7858 - val_acc: 0.7341\n",
      "Epoch 23/25\n",
      "50000/50000 [==============================] - 16s - loss: 0.8063 - acc: 0.7256 - val_loss: 0.7970 - val_acc: 0.7323\n",
      "Epoch 24/25\n",
      "50000/50000 [==============================] - 16s - loss: 0.7980 - acc: 0.7277 - val_loss: 0.7829 - val_acc: 0.7396\n",
      "Epoch 25/25\n",
      "50000/50000 [==============================] - 16s - loss: 0.7961 - acc: 0.7297 - val_loss: 0.7843 - val_acc: 0.7432\n"
     ]
    },
    {
     "data": {
      "text/plain": [
       "<keras.callbacks.History at 0x7f0650425dd0>"
      ]
     },
     "execution_count": 14,
     "metadata": {},
     "output_type": "execute_result"
    }
   ],
   "source": [
    "model.fit(x_train, y_train, batch_size=batch_size, nb_epoch=epochs, validation_data=(x_test, y_test), shuffle=True)"
   ]
  },
  {
   "cell_type": "code",
   "execution_count": 15,
   "metadata": {
    "collapsed": true
   },
   "outputs": [],
   "source": [
    "model.save_weights('results/cifar10.h5')"
   ]
  },
  {
   "cell_type": "code",
   "execution_count": 14,
   "metadata": {
    "collapsed": true
   },
   "outputs": [],
   "source": [
    "model.load_weights('results/cifar10.h5')"
   ]
  },
  {
   "cell_type": "markdown",
   "metadata": {},
   "source": [
    "### Precompute convolution output"
   ]
  },
  {
   "cell_type": "code",
   "execution_count": 15,
   "metadata": {
    "collapsed": true
   },
   "outputs": [],
   "source": [
    "layer_type = Convolution2D\n",
    "layers = model.layers\n",
    "layer_idx = [index for index,layer in enumerate(layers) if type(layer) is layer_type][-1]"
   ]
  },
  {
   "cell_type": "code",
   "execution_count": 16,
   "metadata": {
    "collapsed": true
   },
   "outputs": [],
   "source": [
    "conv_layers = layers[:layer_idx+1]\n",
    "fc_layers = layers[layer_idx+1:]"
   ]
  },
  {
   "cell_type": "code",
   "execution_count": 17,
   "metadata": {
    "collapsed": true
   },
   "outputs": [],
   "source": [
    "conv_model = Sequential(conv_layers)"
   ]
  },
  {
   "cell_type": "code",
   "execution_count": 18,
   "metadata": {
    "scrolled": true
   },
   "outputs": [
    {
     "name": "stdout",
     "output_type": "stream",
     "text": [
      "____________________________________________________________________________________________________\n",
      "Layer (type)                     Output Shape          Param #     Connected to                     \n",
      "====================================================================================================\n",
      "zeropadding2d_1 (ZeroPadding2D)  (None, 3, 34, 34)     0           zeropadding2d_input_1[0][0]      \n",
      "____________________________________________________________________________________________________\n",
      "convolution2d_1 (Convolution2D)  (None, 32, 32, 32)    896         zeropadding2d_1[0][0]            \n",
      "                                                                   zeropadding2d_1[0][0]            \n",
      "____________________________________________________________________________________________________\n",
      "maxpooling2d_1 (MaxPooling2D)    (None, 32, 16, 16)    0           convolution2d_1[0][0]            \n",
      "                                                                   convolution2d_1[1][0]            \n",
      "____________________________________________________________________________________________________\n",
      "dropout_1 (Dropout)              (None, 32, 16, 16)    0           maxpooling2d_1[0][0]             \n",
      "                                                                   maxpooling2d_1[1][0]             \n",
      "____________________________________________________________________________________________________\n",
      "zeropadding2d_2 (ZeroPadding2D)  (None, 32, 18, 18)    0           dropout_1[0][0]                  \n",
      "                                                                   dropout_1[1][0]                  \n",
      "____________________________________________________________________________________________________\n",
      "convolution2d_2 (Convolution2D)  (None, 64, 16, 16)    18496       zeropadding2d_2[0][0]            \n",
      "                                                                   zeropadding2d_2[1][0]            \n",
      "____________________________________________________________________________________________________\n",
      "convolution2d_3 (Convolution2D)  (None, 64, 14, 14)    36928       convolution2d_2[0][0]            \n",
      "                                                                   convolution2d_2[1][0]            \n",
      "====================================================================================================\n",
      "Total params: 56,320\n",
      "Trainable params: 56,320\n",
      "Non-trainable params: 0\n",
      "____________________________________________________________________________________________________\n"
     ]
    }
   ],
   "source": [
    "conv_model.summary()"
   ]
  },
  {
   "cell_type": "code",
   "execution_count": 19,
   "metadata": {
    "collapsed": true
   },
   "outputs": [],
   "source": [
    "def save_array(fname, arr):\n",
    "    c=bcolz.carray(arr, rootdir=fname, mode='w')\n",
    "    c.flush()\n",
    "    \n",
    "def load_array(fname):\n",
    "    return bcolz.open(fname)[:]    "
   ]
  },
  {
   "cell_type": "code",
   "execution_count": 20,
   "metadata": {
    "collapsed": true
   },
   "outputs": [],
   "source": [
    "conv_feat = conv_model.predict(x_train)"
   ]
  },
  {
   "cell_type": "code",
   "execution_count": 22,
   "metadata": {
    "collapsed": true
   },
   "outputs": [],
   "source": [
    "save_array('results/cifar10_conv_feat.dat', conv_feat)"
   ]
  },
  {
   "cell_type": "code",
   "execution_count": 21,
   "metadata": {
    "collapsed": true
   },
   "outputs": [],
   "source": [
    "conv_val_feat = conv_model.predict(x_test)"
   ]
  },
  {
   "cell_type": "code",
   "execution_count": 24,
   "metadata": {
    "collapsed": true
   },
   "outputs": [],
   "source": [
    "save_array('results/cifar10_conv_val_feat.dat', conv_val_feat)"
   ]
  },
  {
   "cell_type": "code",
   "execution_count": 20,
   "metadata": {
    "collapsed": true
   },
   "outputs": [],
   "source": [
    "conv_feat = load_array('results/cifar10_conv_feat.dat')\n",
    "conv_val_feat = load_array('results/cifar10_conv_val_feat.dat')"
   ]
  },
  {
   "cell_type": "code",
   "execution_count": 22,
   "metadata": {},
   "outputs": [
    {
     "data": {
      "text/plain": [
       "(None, 64, 14, 14)"
      ]
     },
     "execution_count": 22,
     "metadata": {},
     "output_type": "execute_result"
    }
   ],
   "source": [
    "conv_layers[-1].output_shape"
   ]
  },
  {
   "cell_type": "markdown",
   "metadata": {},
   "source": [
    "### FC only"
   ]
  },
  {
   "cell_type": "code",
   "execution_count": 23,
   "metadata": {
    "collapsed": true
   },
   "outputs": [],
   "source": [
    "def get_fc_model(p):\n",
    "    return [\n",
    "        MaxPooling2D(input_shape=conv_layers[-1].output_shape[1:]), # first layer must have input_shape\n",
    "        Dropout(p / 2),\n",
    "        Flatten(),\n",
    "        Dense(512, activation='relu'),\n",
    "        Dropout(p),\n",
    "        Dense(10, activation='softmax')        \n",
    "    ]"
   ]
  },
  {
   "cell_type": "markdown",
   "metadata": {},
   "source": [
    "#### Learning rate = 0.001, Dropout = 0.5"
   ]
  },
  {
   "cell_type": "code",
   "execution_count": 24,
   "metadata": {
    "collapsed": true
   },
   "outputs": [],
   "source": [
    "fc_model = Sequential(get_fc_model(0.5))\n",
    "fc_model.compile(optimizer=opt, loss='categorical_crossentropy', metrics=['accuracy'])"
   ]
  },
  {
   "cell_type": "code",
   "execution_count": 25,
   "metadata": {},
   "outputs": [
    {
     "name": "stdout",
     "output_type": "stream",
     "text": [
      "Train on 50000 samples, validate on 10000 samples\n",
      "Epoch 1/25\n",
      "50000/50000 [==============================] - 4s - loss: 1.5022 - acc: 0.4946 - val_loss: 1.0740 - val_acc: 0.6517\n",
      "Epoch 2/25\n",
      "50000/50000 [==============================] - 4s - loss: 1.0557 - acc: 0.6376 - val_loss: 0.9270 - val_acc: 0.6849\n",
      "Epoch 3/25\n",
      "50000/50000 [==============================] - 4s - loss: 0.9393 - acc: 0.6773 - val_loss: 0.8634 - val_acc: 0.7070\n",
      "Epoch 4/25\n",
      "50000/50000 [==============================] - 4s - loss: 0.8781 - acc: 0.6947 - val_loss: 0.8378 - val_acc: 0.7128\n",
      "Epoch 5/25\n",
      "50000/50000 [==============================] - 4s - loss: 0.8413 - acc: 0.7088 - val_loss: 0.8128 - val_acc: 0.7212\n",
      "Epoch 6/25\n",
      "50000/50000 [==============================] - 4s - loss: 0.8150 - acc: 0.7170 - val_loss: 0.8026 - val_acc: 0.7223\n",
      "Epoch 7/25\n",
      "50000/50000 [==============================] - 4s - loss: 0.7958 - acc: 0.7248 - val_loss: 0.7965 - val_acc: 0.7254\n",
      "Epoch 8/25\n",
      "50000/50000 [==============================] - 4s - loss: 0.7814 - acc: 0.7299 - val_loss: 0.7886 - val_acc: 0.7284\n",
      "Epoch 9/25\n",
      "50000/50000 [==============================] - 4s - loss: 0.7642 - acc: 0.7341 - val_loss: 0.7763 - val_acc: 0.7312\n",
      "Epoch 10/25\n",
      "50000/50000 [==============================] - 4s - loss: 0.7554 - acc: 0.7399 - val_loss: 0.7745 - val_acc: 0.7353\n",
      "Epoch 11/25\n",
      "50000/50000 [==============================] - 4s - loss: 0.7431 - acc: 0.7418 - val_loss: 0.7692 - val_acc: 0.7348\n",
      "Epoch 12/25\n",
      "50000/50000 [==============================] - 4s - loss: 0.7322 - acc: 0.7482 - val_loss: 0.7681 - val_acc: 0.7360\n",
      "Epoch 13/25\n",
      "50000/50000 [==============================] - 4s - loss: 0.7260 - acc: 0.7506 - val_loss: 0.7641 - val_acc: 0.7398\n",
      "Epoch 14/25\n",
      "50000/50000 [==============================] - 4s - loss: 0.7225 - acc: 0.7502 - val_loss: 0.7661 - val_acc: 0.7406\n",
      "Epoch 15/25\n",
      "50000/50000 [==============================] - 4s - loss: 0.7130 - acc: 0.7542 - val_loss: 0.7667 - val_acc: 0.7412\n",
      "Epoch 16/25\n",
      "50000/50000 [==============================] - 4s - loss: 0.7083 - acc: 0.7569 - val_loss: 0.7677 - val_acc: 0.7397\n",
      "Epoch 17/25\n",
      "50000/50000 [==============================] - 4s - loss: 0.7043 - acc: 0.7604 - val_loss: 0.7672 - val_acc: 0.7409\n",
      "Epoch 18/25\n",
      "50000/50000 [==============================] - 4s - loss: 0.7031 - acc: 0.7606 - val_loss: 0.7630 - val_acc: 0.7425\n",
      "Epoch 19/25\n",
      "50000/50000 [==============================] - 4s - loss: 0.6982 - acc: 0.7639 - val_loss: 0.7628 - val_acc: 0.7445\n",
      "Epoch 20/25\n",
      "50000/50000 [==============================] - 4s - loss: 0.6923 - acc: 0.7655 - val_loss: 0.7714 - val_acc: 0.7457\n",
      "Epoch 21/25\n",
      "50000/50000 [==============================] - 4s - loss: 0.6883 - acc: 0.7672 - val_loss: 0.7639 - val_acc: 0.7470\n",
      "Epoch 22/25\n",
      "50000/50000 [==============================] - 4s - loss: 0.6891 - acc: 0.7686 - val_loss: 0.7699 - val_acc: 0.7467\n",
      "Epoch 23/25\n",
      "50000/50000 [==============================] - 4s - loss: 0.6836 - acc: 0.7704 - val_loss: 0.7664 - val_acc: 0.7483\n",
      "Epoch 24/25\n",
      "50000/50000 [==============================] - 4s - loss: 0.6845 - acc: 0.7712 - val_loss: 0.7685 - val_acc: 0.7481\n",
      "Epoch 25/25\n",
      "50000/50000 [==============================] - 4s - loss: 0.6818 - acc: 0.7733 - val_loss: 0.7677 - val_acc: 0.7479\n"
     ]
    },
    {
     "data": {
      "text/plain": [
       "<keras.callbacks.History at 0x7f0567d1bc90>"
      ]
     },
     "execution_count": 25,
     "metadata": {},
     "output_type": "execute_result"
    }
   ],
   "source": [
    "fc_model.fit(conv_feat, y_train, batch_size=batch_size, nb_epoch=epochs, validation_data=(conv_val_feat, y_test))"
   ]
  },
  {
   "cell_type": "markdown",
   "metadata": {},
   "source": [
    "## Add Batch normalization"
   ]
  },
  {
   "cell_type": "code",
   "execution_count": 26,
   "metadata": {
    "collapsed": true
   },
   "outputs": [],
   "source": [
    "def get_bn_layers(p):\n",
    "    return [\n",
    "        MaxPooling2D(input_shape=conv_layers[-1].output_shape[1:]),\n",
    "        BatchNormalization(axis=1), \n",
    "        Dropout(p / 2),\n",
    "        Flatten(),\n",
    "        Dense(512, activation='relu'),\n",
    "        BatchNormalization(),\n",
    "        Dropout(p),\n",
    "        Dense(10, activation='softmax')        \n",
    "    ]"
   ]
  },
  {
   "cell_type": "markdown",
   "metadata": {},
   "source": [
    "#### Learning rate = 0.001, Dropout = 0.5"
   ]
  },
  {
   "cell_type": "code",
   "execution_count": 27,
   "metadata": {
    "collapsed": true
   },
   "outputs": [],
   "source": [
    "bn_model = Sequential(get_bn_layers(0.5))\n",
    "bn_model.compile(optimizer=opt, loss='categorical_crossentropy', metrics=['accuracy'])"
   ]
  },
  {
   "cell_type": "code",
   "execution_count": 28,
   "metadata": {},
   "outputs": [
    {
     "name": "stdout",
     "output_type": "stream",
     "text": [
      "Train on 50000 samples, validate on 10000 samples\n",
      "Epoch 1/25\n",
      "50000/50000 [==============================] - 5s - loss: 1.4366 - acc: 0.5617 - val_loss: 0.8551 - val_acc: 0.7101\n",
      "Epoch 2/25\n",
      "50000/50000 [==============================] - 5s - loss: 1.0073 - acc: 0.6754 - val_loss: 0.7903 - val_acc: 0.7304\n",
      "Epoch 3/25\n",
      "50000/50000 [==============================] - 5s - loss: 0.8881 - acc: 0.7059 - val_loss: 0.7637 - val_acc: 0.7422\n",
      "Epoch 4/25\n",
      "50000/50000 [==============================] - 5s - loss: 0.8064 - acc: 0.7298 - val_loss: 0.7511 - val_acc: 0.7481\n",
      "Epoch 5/25\n",
      "50000/50000 [==============================] - 5s - loss: 0.7592 - acc: 0.7391 - val_loss: 0.7467 - val_acc: 0.7515\n",
      "Epoch 6/25\n",
      "50000/50000 [==============================] - 5s - loss: 0.7166 - acc: 0.7550 - val_loss: 0.7372 - val_acc: 0.7565\n",
      "Epoch 7/25\n",
      "50000/50000 [==============================] - 5s - loss: 0.6855 - acc: 0.7667 - val_loss: 0.7352 - val_acc: 0.7558\n",
      "Epoch 8/25\n",
      "50000/50000 [==============================] - 5s - loss: 0.6624 - acc: 0.7755 - val_loss: 0.7311 - val_acc: 0.7600\n",
      "Epoch 9/25\n",
      "50000/50000 [==============================] - 5s - loss: 0.6404 - acc: 0.7828 - val_loss: 0.7292 - val_acc: 0.7625\n",
      "Epoch 10/25\n",
      "50000/50000 [==============================] - 5s - loss: 0.6241 - acc: 0.7873 - val_loss: 0.7242 - val_acc: 0.7641\n",
      "Epoch 11/25\n",
      "50000/50000 [==============================] - 5s - loss: 0.6104 - acc: 0.7918 - val_loss: 0.7280 - val_acc: 0.7609\n",
      "Epoch 12/25\n",
      "50000/50000 [==============================] - 5s - loss: 0.5974 - acc: 0.7969 - val_loss: 0.7209 - val_acc: 0.7645\n",
      "Epoch 13/25\n",
      "50000/50000 [==============================] - 5s - loss: 0.5811 - acc: 0.8036 - val_loss: 0.7231 - val_acc: 0.7650\n",
      "Epoch 14/25\n",
      "50000/50000 [==============================] - 5s - loss: 0.5734 - acc: 0.8064 - val_loss: 0.7234 - val_acc: 0.7632\n",
      "Epoch 15/25\n",
      "50000/50000 [==============================] - 5s - loss: 0.5580 - acc: 0.8111 - val_loss: 0.7194 - val_acc: 0.7677\n",
      "Epoch 16/25\n",
      "50000/50000 [==============================] - 5s - loss: 0.5498 - acc: 0.8140 - val_loss: 0.7194 - val_acc: 0.7675\n",
      "Epoch 17/25\n",
      "50000/50000 [==============================] - 5s - loss: 0.5367 - acc: 0.8174 - val_loss: 0.7187 - val_acc: 0.7668\n",
      "Epoch 18/25\n",
      "50000/50000 [==============================] - 5s - loss: 0.5263 - acc: 0.8225 - val_loss: 0.7250 - val_acc: 0.7659\n",
      "Epoch 19/25\n",
      "50000/50000 [==============================] - 5s - loss: 0.5174 - acc: 0.8265 - val_loss: 0.7170 - val_acc: 0.7690\n",
      "Epoch 20/25\n",
      "50000/50000 [==============================] - 5s - loss: 0.5082 - acc: 0.8310 - val_loss: 0.7192 - val_acc: 0.7675\n",
      "Epoch 21/25\n",
      "50000/50000 [==============================] - 5s - loss: 0.4996 - acc: 0.8315 - val_loss: 0.7146 - val_acc: 0.7691\n",
      "Epoch 22/25\n",
      "50000/50000 [==============================] - 5s - loss: 0.4921 - acc: 0.8357 - val_loss: 0.7197 - val_acc: 0.7689\n",
      "Epoch 23/25\n",
      "50000/50000 [==============================] - 5s - loss: 0.4865 - acc: 0.8380 - val_loss: 0.7166 - val_acc: 0.7681\n",
      "Epoch 24/25\n",
      "50000/50000 [==============================] - 5s - loss: 0.4829 - acc: 0.8399 - val_loss: 0.7160 - val_acc: 0.7706\n",
      "Epoch 25/25\n",
      "50000/50000 [==============================] - 5s - loss: 0.4740 - acc: 0.8402 - val_loss: 0.7214 - val_acc: 0.7702\n"
     ]
    },
    {
     "data": {
      "text/plain": [
       "<keras.callbacks.History at 0x7f0565972090>"
      ]
     },
     "execution_count": 28,
     "metadata": {},
     "output_type": "execute_result"
    }
   ],
   "source": [
    "bn_model.fit(conv_feat, y_train, batch_size=batch_size, nb_epoch=epochs, validation_data=(conv_val_feat, y_test))"
   ]
  },
  {
   "cell_type": "markdown",
   "metadata": {},
   "source": [
    "| | loss | acc | val_loss | val_acc |\n",
    "|---|---|---|---|---|\n",
    "| lr=0.001, dropout=0.5 | 0.6818 | 0.7733 | 0.7677 | 0.7479 |\n",
    "| BN, lr=0.001, dropout=0.5 | 0.4740 | 0.8402 | 0.7214 | 0.7702 |"
   ]
  }
 ],
 "metadata": {
  "kernelspec": {
   "display_name": "Python 2",
   "language": "python",
   "name": "python2"
  },
  "language_info": {
   "codemirror_mode": {
    "name": "ipython",
    "version": 2
   },
   "file_extension": ".py",
   "mimetype": "text/x-python",
   "name": "python",
   "nbconvert_exporter": "python",
   "pygments_lexer": "ipython2",
   "version": "2.7.13"
  },
  "nav_menu": {},
  "toc": {
   "navigate_menu": true,
   "number_sections": true,
   "sideBar": true,
   "threshold": 6,
   "toc_cell": false,
   "toc_section_display": "block",
   "toc_window_display": false
  },
  "widgets": {
   "state": {},
   "version": "1.1.2"
  }
 },
 "nbformat": 4,
 "nbformat_minor": 1
}
